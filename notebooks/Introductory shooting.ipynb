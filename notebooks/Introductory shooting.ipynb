{
 "cells": [
  {
   "cell_type": "code",
   "execution_count": 1,
   "metadata": {},
   "outputs": [],
   "source": [
    "import numpy as np\n",
    "import matplotlib.pyplot as plt\n",
    "from scipy.integrate import odeint\n",
    "import pandas as pd\n",
    "\n",
    "%matplotlib inline"
   ]
  },
  {
   "cell_type": "markdown",
   "metadata": {},
   "source": [
    "Let's revisit Schrodinger's equation for the harmonic oscillator. The equation to solve is\n",
    "\n",
    "$$-\\frac{\\hbar^2}{2m} \\frac{d^2\\psi}{dx^2} + \\frac{1}{2}m\\omega^2x^2\\psi = E\\psi.$$\n",
    "\n",
    "We can rewrite to make the code more obvious:\n",
    "\n",
    "$$\\frac{d^2\\psi}{dx^2} = -\\frac{2m}{\\hbar^2}\\left(E - \\frac{1}{2}m\\omega^2x^2\\right)\\psi.$$"
   ]
  },
  {
   "cell_type": "code",
   "execution_count": 47,
   "metadata": {},
   "outputs": [],
   "source": [
    "def qho(y, x, E, m=1.0, hbar=1.0, omega=1.0):\n",
    "    \"\"\"RHS for a quantum harmonic oscillator\n",
    "    \n",
    "    Parameters:\n",
    "    -----------\n",
    "    y : iterable of floats\n",
    "        contains $\\psi(x)$ and $\\psi'(x)$\n",
    "    x : float\n",
    "        the position at which we're evaluating the equation\n",
    "    E : float\n",
    "        Energy of the quantum state\n",
    "    m : float, optional\n",
    "        mass; defaults to 1\n",
    "    hbar : float, optional\n",
    "           Planck's constant/2pi; defaults to 1\n",
    "    omega : float, optional\n",
    "            frequency of the oscillator; defaults to 1\n",
    "    \n",
    "    Returns:\n",
    "    --------\n",
    "    float : the right hand side of the time independent schrodinger\n",
    "            equation for the harmonic oscillator:\n",
    "            $$\\frac{d^2\\psi}{dx^2} = -\\frac{2m}{\\hbar^2}\n",
    "            \\left(E - \\frac{1}{2}m\\omega^2x^2\\right)\\psi.$$\n",
    "    \"\"\"\n",
    "    psi, psiprime = y\n",
    "    psidoubleprime = -(2*m/hbar**2)*(E-m*omega**2*x**2/2)*psi\n",
    "    \n",
    "    return np.array([psiprime, psidoubleprime])"
   ]
  },
  {
   "cell_type": "markdown",
   "metadata": {},
   "source": [
    "Choosing initial conditions for this is difficult, because both $\\psi$ and $\\psi'$ go asymptotically to zero as $|x|$ gets large. Instead, we will integrate from the middle outward. This requires some knowlege of the physical system (symmetric potentials yield symmetric wave functions, for example) and isn't always possible. In this case, though, it works wonders."
   ]
  },
  {
   "cell_type": "code",
   "execution_count": 35,
   "metadata": {},
   "outputs": [],
   "source": [
    "def mirror_result(domain, result, even=True):\n",
    "    \"\"\"mirror a result across x=0\n",
    "    \n",
    "    This allows us to integrate from the center outward on the \n",
    "    positive side, and mirror the result on the negative side.\n",
    "    \n",
    "    Parameters:\n",
    "    -----------\n",
    "    domain : numpy array\n",
    "             the domain of integration\n",
    "    result : numpy array\n",
    "             output from odeint\n",
    "    even : boolean\n",
    "           True if the result is an even function\n",
    "           This could probably be refactored out if we check to see\n",
    "           if the initial value/slope are consistent with even/odd\n",
    "           functions.\n",
    "           \n",
    "    Returns:\n",
    "    --------\n",
    "    two numpy arrays with the extended domain and extended result.\n",
    "    \n",
    "    \"\"\"\n",
    "    negdom = -np.flip(domain, 0)\n",
    "    if even:\n",
    "        negres = np.flip(result, 0)\n",
    "    else:\n",
    "        negres = -np.flip(result, 0)\n",
    "    fulldom = np.concatenate([negdom, domain])\n",
    "    fullres = np.concatenate([negres, result])\n",
    "    \n",
    "    return fulldom, fullres"
   ]
  },
  {
   "cell_type": "markdown",
   "metadata": {},
   "source": [
    "With that in hand, solving the equation is easy if we know the energies. We get non-normalized solutions, but that's okay -- we can apply normalization after the fact.\n",
    "\n",
    "The half solution looks like this:"
   ]
  },
  {
   "cell_type": "code",
   "execution_count": 45,
   "metadata": {},
   "outputs": [
    {
     "data": {
      "text/plain": [
       "[<matplotlib.lines.Line2D at 0x7f47225f34a8>]"
      ]
     },
     "execution_count": 45,
     "metadata": {},
     "output_type": "execute_result"
    },
    {
     "data": {
      "image/png": "[encoded data removed]",
      "text/plain": [
       "<matplotlib.figure.Figure at 0x7f4722822080>"
      ]
     },
     "metadata": {},
     "output_type": "display_data"
    }
   ],
   "source": [
    "domain = np.linspace(0,5,1000)\n",
    "y0 = (1.0, 0.0)\n",
    "result = odeint(qho, y0, domain, args=(0.5,))\n",
    "plt.plot(domain, result[:,0])"
   ]
  },
  {
   "cell_type": "markdown",
   "metadata": {},
   "source": [
    "... and when mirrored, we get:"
   ]
  },
  {
   "cell_type": "code",
   "execution_count": 46,
   "metadata": {},
   "outputs": [
    {
     "data": {
      "text/plain": [
       "[<matplotlib.lines.Line2D at 0x7f472270d828>]"
      ]
     },
     "execution_count": 46,
     "metadata": {},
     "output_type": "execute_result"
    },
    {
     "data": {
      "image/png": "[encoded data removed]",
      "text/plain": [
       "<matplotlib.figure.Figure at 0x7f4722670048>"
      ]
     },
     "metadata": {},
     "output_type": "display_data"
    }
   ],
   "source": [
    "fulldom, fullres = mirror_result(domain, result)\n",
    "\n",
    "plt.plot(fulldom, fullres[:,0])"
   ]
  },
  {
   "cell_type": "markdown",
   "metadata": {},
   "source": [
    "Additional wave functions come from incrementing the energy."
   ]
  },
  {
   "cell_type": "code",
   "execution_count": 51,
   "metadata": {},
   "outputs": [
    {
     "data": {
      "text/plain": [
       "[<matplotlib.lines.Line2D at 0x7f4722707668>]"
      ]
     },
     "execution_count": 51,
     "metadata": {},
     "output_type": "execute_result"
    },
    {
     "data": {
      "image/png": "[encoded data removed]",
      "text/plain": [
       "<matplotlib.figure.Figure at 0x7f47227bdcf8>"
      ]
     },
     "metadata": {},
     "output_type": "display_data"
    }
   ],
   "source": [
    "y0 = (0.0, 1.0)\n",
    "result = odeint(qho, y0, domain, args=(1.5,))\n",
    "fulldom, fullres = mirror_result(domain, result, even=False)\n",
    "plt.plot(fulldom, fullres[:,0])"
   ]
  },
  {
   "cell_type": "code",
   "execution_count": 43,
   "metadata": {},
   "outputs": [
    {
     "data": {
      "text/plain": [
       "[<matplotlib.lines.Line2D at 0x7f4722687080>]"
      ]
     },
     "execution_count": 43,
     "metadata": {},
     "output_type": "execute_result"
    },
    {
     "data": {
      "image/png": "[encoded data removed]",
      "text/plain": [
       "<matplotlib.figure.Figure at 0x7f47226dd978>"
      ]
     },
     "metadata": {},
     "output_type": "display_data"
    }
   ],
   "source": [
    "y0 = (1.0, 0.0)\n",
    "result = odeint(qho, y0, domain, args=(2.5,))\n",
    "fulldom, fullres = mirror_result(domain, result, even=True)\n",
    "plt.plot(fulldom, fullres[:,0])"
   ]
  },
  {
   "cell_type": "code",
   "execution_count": 44,
   "metadata": {},
   "outputs": [
    {
     "data": {
      "text/plain": [
       "[<matplotlib.lines.Line2D at 0x7f472263c2b0>]"
      ]
     },
     "execution_count": 44,
     "metadata": {},
     "output_type": "execute_result"
    },
    {
     "data": {
      "image/png": "[encoded data removed]",
      "text/plain": [
       "<matplotlib.figure.Figure at 0x7f472266d6a0>"
      ]
     },
     "metadata": {},
     "output_type": "display_data"
    }
   ],
   "source": [
    "y0 = (0.0, 1.0)\n",
    "result = odeint(qho, y0, domain, args=(3.5,))\n",
    "fulldom, fullres = mirror_result(domain, result, even=False)\n",
    "plt.plot(fulldom, fullres[:,0])"
   ]
  },
  {
   "cell_type": "markdown",
   "metadata": {},
   "source": [
    "What if we don't know the energy? Let's try some guesses."
   ]
  },
  {
   "cell_type": "code",
   "execution_count": 53,
   "metadata": {},
   "outputs": [
    {
     "data": {
      "text/plain": [
       "(0, 2)"
      ]
     },
     "execution_count": 53,
     "metadata": {},
     "output_type": "execute_result"
    },
    {
     "data": {
      "image/png": "[encoded data removed]",
      "text/plain": [
       "<matplotlib.figure.Figure at 0x7f4722747e48>"
      ]
     },
     "metadata": {},
     "output_type": "display_data"
    }
   ],
   "source": [
    "domain = np.linspace(0,5,1000)\n",
    "y0 = (1.0, 0.0)\n",
    "result = odeint(qho, y0, domain, args=(0.45,))\n",
    "plt.plot(domain, result[:,0])\n",
    "plt.ylim(0,2)"
   ]
  },
  {
   "cell_type": "markdown",
   "metadata": {},
   "source": [
    "Guessing too low means the function doesn't get down to zero. Let's guess higher."
   ]
  },
  {
   "cell_type": "code",
   "execution_count": 72,
   "metadata": {},
   "outputs": [
    {
     "data": {
      "text/plain": [
       "(-2, 2)"
      ]
     },
     "execution_count": 72,
     "metadata": {},
     "output_type": "execute_result"
    },
    {
     "data": {
      "image/png": "[encoded data removed]",
      "text/plain": [
       "<matplotlib.figure.Figure at 0x7f47225c56d8>"
      ]
     },
     "metadata": {},
     "output_type": "display_data"
    }
   ],
   "source": [
    "domain = np.linspace(0,5,1000)\n",
    "y0 = (1.0, 0.0)\n",
    "result = odeint(qho, y0, domain, args=(0.55,))\n",
    "plt.plot(domain, result[:,0])\n",
    "plt.ylim(-2,2)"
   ]
  },
  {
   "cell_type": "markdown",
   "metadata": {},
   "source": [
    "Guessing too high means we cross zero and keep going.  We could keep guessing and checking by hand, but I'm going to get tired of that really quickly. As it happens, there is (more than one) automated way to take care of this problem: use a root finding function from the `scipy.optimize` library. [Documentation is here](https://docs.scipy.org/doc/scipy/reference/optimize.html).\n",
    "\n",
    "We're working in one dimension (so we don't need to worry about the multidimensional methods) and assuming you can find a bracketing interval, the bisection method provided by `bisect` is both fast and stable. The other obvious choice is Newton-Raphson, but it can be unstable if you aren't careful.  For our purposes, the work of finding a bracketing interval isn't too bad, so we will use `bisect`."
   ]
  },
  {
   "cell_type": "code",
   "execution_count": 48,
   "metadata": {},
   "outputs": [],
   "source": [
    "from scipy.optimize import bisect"
   ]
  },
  {
   "cell_type": "code",
   "execution_count": 49,
   "metadata": {},
   "outputs": [
    {
     "name": "stdout",
     "output_type": "stream",
     "text": [
      "Help on function bisect in module scipy.optimize.zeros:\n",
      "\n",
      "bisect(f, a, b, args=(), xtol=2e-12, rtol=8.8817841970012523e-16, maxiter=100, full_output=False, disp=True)\n",
      "    Find root of a function within an interval.\n",
      "    \n",
      "    Basic bisection routine to find a zero of the function `f` between the\n",
      "    arguments `a` and `b`. `f(a)` and `f(b)` cannot have the same signs.\n",
      "    Slow but sure.\n",
      "    \n",
      "    Parameters\n",
      "    ----------\n",
      "    f : function\n",
      "        Python function returning a number.  `f` must be continuous, and\n",
      "        f(a) and f(b) must have opposite signs.\n",
      "    a : number\n",
      "        One end of the bracketing interval [a,b].\n",
      "    b : number\n",
      "        The other end of the bracketing interval [a,b].\n",
      "    xtol : number, optional\n",
      "        The computed root ``x0`` will satisfy ``np.allclose(x, x0,\n",
      "        atol=xtol, rtol=rtol)``, where ``x`` is the exact root. The\n",
      "        parameter must be nonnegative.\n",
      "    rtol : number, optional\n",
      "        The computed root ``x0`` will satisfy ``np.allclose(x, x0,\n",
      "        atol=xtol, rtol=rtol)``, where ``x`` is the exact root. The\n",
      "        parameter cannot be smaller than its default value of\n",
      "        ``4*np.finfo(float).eps``.\n",
      "    maxiter : number, optional\n",
      "        if convergence is not achieved in `maxiter` iterations, an error is\n",
      "        raised.  Must be >= 0.\n",
      "    args : tuple, optional\n",
      "        containing extra arguments for the function `f`.\n",
      "        `f` is called by ``apply(f, (x)+args)``.\n",
      "    full_output : bool, optional\n",
      "        If `full_output` is False, the root is returned.  If `full_output` is\n",
      "        True, the return value is ``(x, r)``, where x is the root, and r is\n",
      "        a `RootResults` object.\n",
      "    disp : bool, optional\n",
      "        If True, raise RuntimeError if the algorithm didn't converge.\n",
      "    \n",
      "    Returns\n",
      "    -------\n",
      "    x0 : float\n",
      "        Zero of `f` between `a` and `b`.\n",
      "    r : RootResults (present if ``full_output = True``)\n",
      "        Object containing information about the convergence.  In particular,\n",
      "        ``r.converged`` is True if the routine converged.\n",
      "    \n",
      "    Examples\n",
      "    --------\n",
      "    \n",
      "    >>> def f(x):\n",
      "    ...     return (x**2 - 1)\n",
      "    \n",
      "    >>> from scipy import optimize\n",
      "    \n",
      "    >>> root = optimize.bisect(f, 0, 2)\n",
      "    >>> root\n",
      "    1.0\n",
      "    \n",
      "    >>> root = optimize.bisect(f, -2, 0)\n",
      "    >>> root\n",
      "    -1.0\n",
      "    \n",
      "    See Also\n",
      "    --------\n",
      "    brentq, brenth, bisect, newton\n",
      "    fixed_point : scalar fixed-point finder\n",
      "    fsolve : n-dimensional root-finding\n",
      "\n"
     ]
    }
   ],
   "source": [
    "help(bisect)"
   ]
  },
  {
   "cell_type": "markdown",
   "metadata": {},
   "source": [
    "We want to find the energy for which $\\psi$ asymptotically approaches zero as $x$ gets large. Unfortunately, that is hard to do. Like physical shooting, as your target gets farther away, it's harder to hit, and \"asymptotically approaches\" is less amenable to calculation than \"is equal to\".\n",
    "\n",
    "We address these two issues by not addressing them. That is, we choose a \"large\" value $x_\\text{large}$, and say that $\\psi(x_\\text{large}) = 0$. This will introduce error into our result, but if we choose $x_\\text{large}$ appropriately, that error will be small enough that we don't care about it.\n",
    "\n",
    "In any case, we will want a convenient way to find the value of $\\psi$ at the end of our integration interval."
   ]
  },
  {
   "cell_type": "code",
   "execution_count": 83,
   "metadata": {},
   "outputs": [],
   "source": [
    "def bc(E, even=True, endpoint=5):\n",
    "    \"\"\"Find the boundary value for a given energy.\n",
    "    \n",
    "    Parameters:\n",
    "    -----------\n",
    "    E : number\n",
    "        The energy to test\n",
    "    even : boolean, optional\n",
    "           is the function even?\n",
    "    endpoint : number, optional\n",
    "               the endpoint for the integration interval.\n",
    "    Returns:\n",
    "    --------\n",
    "    psi(endpoint) : number\n",
    "             The value of psi at x=endpoint. \n",
    "    \"\"\"\n",
    "    domain = np.linspace(0,endpoint,1000)\n",
    "    if even:\n",
    "        y0 = (1.0, 0.0)\n",
    "    else:\n",
    "        y0 = (0.0, 1.0)\n",
    "        \n",
    "    result = odeint(qho, y0, domain, args=(E,))\n",
    "    return result[-1, 0]"
   ]
  },
  {
   "cell_type": "code",
   "execution_count": 59,
   "metadata": {},
   "outputs": [
    {
     "data": {
      "text/plain": [
       "-5482.6625365161326"
      ]
     },
     "execution_count": 59,
     "metadata": {},
     "output_type": "execute_result"
    }
   ],
   "source": [
    "bc(0.65)"
   ]
  },
  {
   "cell_type": "code",
   "execution_count": 60,
   "metadata": {},
   "outputs": [
    {
     "data": {
      "text/plain": [
       "2665.0532400852826"
      ]
     },
     "execution_count": 60,
     "metadata": {},
     "output_type": "execute_result"
    }
   ],
   "source": [
    "bc(0.45)"
   ]
  },
  {
   "cell_type": "code",
   "execution_count": 61,
   "metadata": {},
   "outputs": [
    {
     "data": {
      "text/plain": [
       "0.49999997978011373"
      ]
     },
     "execution_count": 61,
     "metadata": {},
     "output_type": "execute_result"
    }
   ],
   "source": [
    "bisect(bc, 0.45, 0.65)"
   ]
  },
  {
   "cell_type": "code",
   "execution_count": 79,
   "metadata": {},
   "outputs": [],
   "source": [
    "def find_energies(n=3):\n",
    "    \"\"\"Find the energies of the QHO.\n",
    "    \n",
    "    Parameters:\n",
    "    -----------\n",
    "    n : integer\n",
    "        how many energies to find\n",
    "        \n",
    "    Returns:\n",
    "    --------\n",
    "    energies : list\n",
    "               energy values\n",
    "    \"\"\"\n",
    "    \n",
    "    energies = []\n",
    "    even = True\n",
    "    bracket_found = False\n",
    "    starting_value = 0.01\n",
    "    e_step = 0.3\n",
    "    \n",
    "    # prime the pump\n",
    "    prev_energy = starting_value\n",
    "    prev_bc = bc(prev_energy)\n",
    "    \n",
    "    for idx in range(n):\n",
    "        # try energies until we find two values that bracket an eigenvalue\n",
    "        while not bracket_found:\n",
    "            current_energy = prev_energy + e_step\n",
    "            current_bc = bc(current_energy, even=even)\n",
    "            if np.sign(current_bc) != np.sign(prev_bc):\n",
    "                bracket_found = True\n",
    "            else:\n",
    "                prev_energy = current_energy\n",
    "                prev_bc = current_bc\n",
    "        # use bisect to get the actual value\n",
    "        energies.append(bisect(bc, prev_energy, current_energy, args=(even, )))\n",
    "        \n",
    "        # set up for the next energy\n",
    "        # function changes parity\n",
    "        even = not len(energies) % 2\n",
    "        # populate prev_energy\n",
    "        prev_energy = current_energy\n",
    "        # we no longer have a bracket\n",
    "        bracket_found = False\n",
    "        # recalculate bc with the new parity\n",
    "        prev_bc = bc(prev_energy, even=even)\n",
    "    return energies"
   ]
  },
  {
   "cell_type": "code",
   "execution_count": 81,
   "metadata": {},
   "outputs": [
    {
     "data": {
      "text/plain": [
       "[0.4999999797813506, 1.499999994033497, 2.5000001066485855]"
      ]
     },
     "execution_count": 81,
     "metadata": {},
     "output_type": "execute_result"
    }
   ],
   "source": [
    "find_energies(3)"
   ]
  },
  {
   "cell_type": "code",
   "execution_count": 82,
   "metadata": {},
   "outputs": [
    {
     "data": {
      "text/plain": [
       "[0.4999999797813506,\n",
       " 1.499999994033497,\n",
       " 2.5000001066485855,\n",
       " 3.5000012164416696,\n",
       " 4.5000126752527265,\n",
       " 5.500098692229731,\n",
       " 6.500602374840452,\n",
       " 7.50292793226741,\n",
       " 8.51147134079634]"
      ]
     },
     "execution_count": 82,
     "metadata": {},
     "output_type": "execute_result"
    }
   ],
   "source": [
    "find_energies(9)"
   ]
  },
  {
   "cell_type": "markdown",
   "metadata": {},
   "source": [
    "## Refining things\n",
    "\n",
    "Let's make our solution more modular."
   ]
  },
  {
   "cell_type": "code",
   "execution_count": 93,
   "metadata": {},
   "outputs": [],
   "source": [
    "def schro_rhs(y, x, E, V, m=1.0, hbar=1.0):\n",
    "    \"\"\"RHS for the time independent schrodinger equation.\n",
    "    \n",
    "    Parameters:\n",
    "    -----------\n",
    "    y : iterable of floats\n",
    "        contains $\\psi(x)$ and $\\psi'(x)$\n",
    "    x : float\n",
    "        the position at which we're evaluating the equation\n",
    "    E : float\n",
    "        Energy of the quantum state\n",
    "    V : function\n",
    "        function for the potential\n",
    "    m : float, optional\n",
    "        mass; defaults to 1\n",
    "    hbar : float, optional\n",
    "           Planck's constant/2pi; defaults to 1\n",
    "    \n",
    "    Returns:\n",
    "    --------\n",
    "    float : the right hand side of the time independent schrodinger\n",
    "            equation for the time independent Schrodinger equation:\n",
    "            $$\\frac{d^2\\psi}{dx^2} = -\\frac{2m}{\\hbar^2}\n",
    "            \\left(E - V(x) \\right)\\psi.$$\n",
    "    \"\"\"\n",
    "    psi, psiprime = y\n",
    "    psidoubleprime = -(2*m/hbar**2)*(E-V(x))*psi\n",
    "    \n",
    "    return np.array([psiprime, psidoubleprime])\n",
    "\n",
    "def bc(E, V, even=True, endpoint=5):\n",
    "    \"\"\"Find the boundary value for a given energy.\n",
    "    \n",
    "    Parameters:\n",
    "    -----------\n",
    "    E : number\n",
    "        The energy to test\n",
    "    V : function\n",
    "        The potential function\n",
    "    even : boolean, optional\n",
    "           is the function even?\n",
    "    endpoint : number, optional\n",
    "               the endpoint for the integration interval.\n",
    "    Returns:\n",
    "    --------\n",
    "    psi(endpoint) : number\n",
    "             The value of psi at x=endpoint. \n",
    "    \"\"\"\n",
    "    domain = np.linspace(0,endpoint,1000)\n",
    "    if even:\n",
    "        y0 = (1.0, 0.0)\n",
    "    else:\n",
    "        y0 = (0.0, 1.0)\n",
    "        \n",
    "    result = odeint(schro_rhs, y0, domain, args=(E,V,))\n",
    "    return result[-1, 0]\n",
    "\n",
    "def find_energies(V, n=3):\n",
    "    \"\"\"Find the energies allowed by the TISE for a particular potential.\n",
    "    \n",
    "    Parameters:\n",
    "    -----------\n",
    "    V : function\n",
    "        the potential\n",
    "    n : integer, optional\n",
    "        how many energies to find; defaults to 3\n",
    "        \n",
    "    Returns:\n",
    "    --------\n",
    "    energies : list\n",
    "               energy values\n",
    "    \"\"\"\n",
    "    \n",
    "    if not callable(V):\n",
    "        raise TypeError(\"{} is not callable\".format(V))\n",
    "    energies = []\n",
    "    even = True\n",
    "    bracket_found = False\n",
    "    starting_value = 0.01\n",
    "    e_step = 0.3\n",
    "    \n",
    "    # prime the pump\n",
    "    prev_energy = starting_value\n",
    "    prev_bc = bc(prev_energy, V)\n",
    "    \n",
    "    for idx in range(n):\n",
    "        # try energies until we find two values that bracket an eigenvalue\n",
    "        while not bracket_found:\n",
    "            current_energy = prev_energy + e_step\n",
    "            current_bc = bc(current_energy, V, even=even)\n",
    "            if np.sign(current_bc) != np.sign(prev_bc):\n",
    "                bracket_found = True\n",
    "            else:\n",
    "                prev_energy = current_energy\n",
    "                prev_bc = current_bc\n",
    "        # use bisect to get the actual value\n",
    "        energies.append(bisect(bc, prev_energy, current_energy, args=(V, even, )))\n",
    "        \n",
    "        # set up for the next energy\n",
    "        # function changes parity\n",
    "        even = not len(energies) % 2\n",
    "        # populate prev_energy\n",
    "        prev_energy = current_energy\n",
    "        # we no longer have a bracket\n",
    "        bracket_found = False\n",
    "        # recalculate bc with the new parity\n",
    "        prev_bc = bc(prev_energy, V, even=even)\n",
    "    return energies"
   ]
  },
  {
   "cell_type": "code",
   "execution_count": 94,
   "metadata": {},
   "outputs": [
    {
     "ename": "TypeError",
     "evalue": "3 is not callable",
     "output_type": "error",
     "traceback": [
      "\u001b[1;31m---------------------------------------------------------------------------\u001b[0m",
      "\u001b[1;31mTypeError\u001b[0m                                 Traceback (most recent call last)",
      "\u001b[1;32m<ipython-input-94-1fc0231db3e9>\u001b[0m in \u001b[0;36m<module>\u001b[1;34m()\u001b[0m\n\u001b[1;32m----> 1\u001b[1;33m \u001b[0mfind_energies\u001b[0m\u001b[1;33m(\u001b[0m\u001b[1;36m3\u001b[0m\u001b[1;33m)\u001b[0m\u001b[1;33m\u001b[0m\u001b[0m\n\u001b[0m",
      "\u001b[1;32m<ipython-input-93-37023e91211e>\u001b[0m in \u001b[0;36mfind_energies\u001b[1;34m(V, n)\u001b[0m\n\u001b[0;32m     73\u001b[0m \u001b[1;33m\u001b[0m\u001b[0m\n\u001b[0;32m     74\u001b[0m     \u001b[1;32mif\u001b[0m \u001b[1;32mnot\u001b[0m \u001b[0mcallable\u001b[0m\u001b[1;33m(\u001b[0m\u001b[0mV\u001b[0m\u001b[1;33m)\u001b[0m\u001b[1;33m:\u001b[0m\u001b[1;33m\u001b[0m\u001b[0m\n\u001b[1;32m---> 75\u001b[1;33m         \u001b[1;32mraise\u001b[0m \u001b[0mTypeError\u001b[0m\u001b[1;33m(\u001b[0m\u001b[1;34m\"{} is not callable\"\u001b[0m\u001b[1;33m.\u001b[0m\u001b[0mformat\u001b[0m\u001b[1;33m(\u001b[0m\u001b[0mV\u001b[0m\u001b[1;33m)\u001b[0m\u001b[1;33m)\u001b[0m\u001b[1;33m\u001b[0m\u001b[0m\n\u001b[0m\u001b[0;32m     76\u001b[0m     \u001b[0menergies\u001b[0m \u001b[1;33m=\u001b[0m \u001b[1;33m[\u001b[0m\u001b[1;33m]\u001b[0m\u001b[1;33m\u001b[0m\u001b[0m\n\u001b[0;32m     77\u001b[0m     \u001b[0meven\u001b[0m \u001b[1;33m=\u001b[0m \u001b[1;32mTrue\u001b[0m\u001b[1;33m\u001b[0m\u001b[0m\n",
      "\u001b[1;31mTypeError\u001b[0m: 3 is not callable"
     ]
    }
   ],
   "source": [
    "find_energies(3)"
   ]
  },
  {
   "cell_type": "code",
   "execution_count": 95,
   "metadata": {},
   "outputs": [],
   "source": [
    "def harmonic(x, m=1, omega=1):\n",
    "    \"\"\"Potential for the harmonic oscillator\"\"\"\n",
    "    \n",
    "    return m*omega**2*x**2/2"
   ]
  },
  {
   "cell_type": "code",
   "execution_count": 96,
   "metadata": {},
   "outputs": [
    {
     "data": {
      "text/plain": [
       "[0.4999999797813506, 1.499999994033497, 2.5000001066485855]"
      ]
     },
     "execution_count": 96,
     "metadata": {},
     "output_type": "execute_result"
    }
   ],
   "source": [
    "find_energies(harmonic, 3)"
   ]
  },
  {
   "cell_type": "markdown",
   "metadata": {},
   "source": [
    "## Plotting results\n",
    "\n",
    "You did part of this for homework 8."
   ]
  },
  {
   "cell_type": "code",
   "execution_count": 140,
   "metadata": {},
   "outputs": [],
   "source": [
    "def plot_energy_diagram(V, n=3):\n",
    "    \"\"\"Plot an energy diagram for a potential well.\"\"\"\n",
    "    \n",
    "    domain = np.linspace(-5, 5, 1000)\n",
    "    halfdomain = np.linspace(0, 5, 500)\n",
    "    potential = V(domain)\n",
    "    minx = np.min(domain)\n",
    "    maxx = np.max(domain)\n",
    "    \n",
    "    fig, ax = plt.subplots(1)\n",
    "    fig.set_figwidth(10)\n",
    "    fig.set_figheight(6)\n",
    "    \n",
    "    ax.plot(domain, potential)\n",
    "    ax.set_axis_off()\n",
    "    \n",
    "    # plot energies and eigenfunctions\n",
    "    energies = find_energies(V, n)\n",
    "    even = True\n",
    "    for energy in energies:\n",
    "        ax.plot([minx, maxx], [energy, energy], \":\", color=\"gray\")\n",
    "        if even:\n",
    "            y0 = (1.0, 0)\n",
    "        else:\n",
    "            y0 = (0.0, 1.0)\n",
    "        result = odeint(schro_rhs, y0, halfdomain, args=(energy, V))\n",
    "        fulldom, fullres = mirror_result(halfdomain, result, even)\n",
    "        eigenfunction = 0.3*(fullres[:,0]) + energy\n",
    "        ax.plot(fulldom, eigenfunction)\n",
    "        ax.text(4.5, energy,\"$E={:5.2f}$\".format(energy),  verticalalignment=\"bottom\")\n",
    "        even = not even\n",
    "    deltae = energies[-1] - energies[-2]    \n",
    "    ax.set_ylim(-0.1, energies[-1] + deltae)"
   ]
  },
  {
   "cell_type": "code",
   "execution_count": 156,
   "metadata": {},
   "outputs": [
    {
     "data": {
      "image/png": "[encoded data removed]",
      "text/plain": [
       "<matplotlib.figure.Figure at 0x7f47224b8978>"
      ]
     },
     "metadata": {},
     "output_type": "display_data"
    }
   ],
   "source": [
    "plot_energy_diagram(harmonic, n=10)"
   ]
  },
  {
   "cell_type": "markdown",
   "metadata": {},
   "source": [
    "## adding an automated test"
   ]
  },
  {
   "cell_type": "code",
   "execution_count": 143,
   "metadata": {},
   "outputs": [
    {
     "name": "stdout",
     "output_type": "stream",
     "text": [
      "Help on function assert_allclose in module numpy.testing.utils:\n",
      "\n",
      "assert_allclose(actual, desired, rtol=1e-07, atol=0, equal_nan=True, err_msg='', verbose=True)\n",
      "    Raises an AssertionError if two objects are not equal up to desired\n",
      "    tolerance.\n",
      "    \n",
      "    The test is equivalent to ``allclose(actual, desired, rtol, atol)``.\n",
      "    It compares the difference between `actual` and `desired` to\n",
      "    ``atol + rtol * abs(desired)``.\n",
      "    \n",
      "    .. versionadded:: 1.5.0\n",
      "    \n",
      "    Parameters\n",
      "    ----------\n",
      "    actual : array_like\n",
      "        Array obtained.\n",
      "    desired : array_like\n",
      "        Array desired.\n",
      "    rtol : float, optional\n",
      "        Relative tolerance.\n",
      "    atol : float, optional\n",
      "        Absolute tolerance.\n",
      "    equal_nan : bool, optional.\n",
      "        If True, NaNs will compare equal.\n",
      "    err_msg : str, optional\n",
      "        The error message to be printed in case of failure.\n",
      "    verbose : bool, optional\n",
      "        If True, the conflicting values are appended to the error message.\n",
      "    \n",
      "    Raises\n",
      "    ------\n",
      "    AssertionError\n",
      "        If actual and desired are not equal up to specified precision.\n",
      "    \n",
      "    See Also\n",
      "    --------\n",
      "    assert_array_almost_equal_nulp, assert_array_max_ulp\n",
      "    \n",
      "    Examples\n",
      "    --------\n",
      "    >>> x = [1e-5, 1e-3, 1e-1]\n",
      "    >>> y = np.arccos(np.cos(x))\n",
      "    >>> assert_allclose(x, y, rtol=1e-5, atol=0)\n",
      "\n"
     ]
    }
   ],
   "source": [
    "help(np.testing.assert_allclose)"
   ]
  },
  {
   "cell_type": "code",
   "execution_count": 149,
   "metadata": {},
   "outputs": [],
   "source": [
    "import numpy as np\n",
    "from numpy.testing import assert_allclose\n",
    "\n",
    "def test_find_energies_sho(n=3):\n",
    "    \"\"\"Test that find_energies gives correct results for the harmonic oscillator.\"\"\"\n",
    "    \n",
    "    def sho_test(x):\n",
    "        \"\"\"Potential for the harmonic oscillator, with m=1, omega=1\"\"\"    \n",
    "        return x**2/2\n",
    "\n",
    "    desired_energies = np.array([i+0.5 for i in range(n)])\n",
    "    assert_allclose(find_energies(sho_test, n), desired_energies)"
   ]
  },
  {
   "cell_type": "code",
   "execution_count": 150,
   "metadata": {},
   "outputs": [],
   "source": [
    "test_find_energies_sho()"
   ]
  },
  {
   "cell_type": "code",
   "execution_count": 151,
   "metadata": {},
   "outputs": [
    {
     "ename": "AssertionError",
     "evalue": "\nNot equal to tolerance rtol=1e-07, atol=0\n\n(mismatch 25.0%)\n x: array([ 0.5     ,  1.5     ,  2.5     ,  3.500001])\n y: array([ 0.5,  1.5,  2.5,  3.5])",
     "output_type": "error",
     "traceback": [
      "\u001b[1;31m---------------------------------------------------------------------------\u001b[0m",
      "\u001b[1;31mAssertionError\u001b[0m                            Traceback (most recent call last)",
      "\u001b[1;32m<ipython-input-151-9c26c9b16de1>\u001b[0m in \u001b[0;36m<module>\u001b[1;34m()\u001b[0m\n\u001b[1;32m----> 1\u001b[1;33m \u001b[0mtest_find_energies_sho\u001b[0m\u001b[1;33m(\u001b[0m\u001b[1;36m4\u001b[0m\u001b[1;33m)\u001b[0m\u001b[1;33m\u001b[0m\u001b[0m\n\u001b[0m",
      "\u001b[1;32m<ipython-input-149-161c9e9d7d5b>\u001b[0m in \u001b[0;36mtest_find_energies_sho\u001b[1;34m(n)\u001b[0m\n\u001b[0;32m     10\u001b[0m \u001b[1;33m\u001b[0m\u001b[0m\n\u001b[0;32m     11\u001b[0m     \u001b[0mdesired_energies\u001b[0m \u001b[1;33m=\u001b[0m \u001b[0mnp\u001b[0m\u001b[1;33m.\u001b[0m\u001b[0marray\u001b[0m\u001b[1;33m(\u001b[0m\u001b[1;33m[\u001b[0m\u001b[0mi\u001b[0m\u001b[1;33m+\u001b[0m\u001b[1;36m0.5\u001b[0m \u001b[1;32mfor\u001b[0m \u001b[0mi\u001b[0m \u001b[1;32min\u001b[0m \u001b[0mrange\u001b[0m\u001b[1;33m(\u001b[0m\u001b[0mn\u001b[0m\u001b[1;33m)\u001b[0m\u001b[1;33m]\u001b[0m\u001b[1;33m)\u001b[0m\u001b[1;33m\u001b[0m\u001b[0m\n\u001b[1;32m---> 12\u001b[1;33m     \u001b[0massert_allclose\u001b[0m\u001b[1;33m(\u001b[0m\u001b[0mfind_energies\u001b[0m\u001b[1;33m(\u001b[0m\u001b[0msho_test\u001b[0m\u001b[1;33m,\u001b[0m \u001b[0mn\u001b[0m\u001b[1;33m)\u001b[0m\u001b[1;33m,\u001b[0m \u001b[0mdesired_energies\u001b[0m\u001b[1;33m)\u001b[0m\u001b[1;33m\u001b[0m\u001b[0m\n\u001b[0m",
      "\u001b[1;32m/opt/anaconda3/lib/python3.5/site-packages/numpy/testing/utils.py\u001b[0m in \u001b[0;36massert_allclose\u001b[1;34m(actual, desired, rtol, atol, equal_nan, err_msg, verbose)\u001b[0m\n\u001b[0;32m   1393\u001b[0m     \u001b[0mheader\u001b[0m \u001b[1;33m=\u001b[0m \u001b[1;34m'Not equal to tolerance rtol=%g, atol=%g'\u001b[0m \u001b[1;33m%\u001b[0m \u001b[1;33m(\u001b[0m\u001b[0mrtol\u001b[0m\u001b[1;33m,\u001b[0m \u001b[0matol\u001b[0m\u001b[1;33m)\u001b[0m\u001b[1;33m\u001b[0m\u001b[0m\n\u001b[0;32m   1394\u001b[0m     assert_array_compare(compare, actual, desired, err_msg=str(err_msg),\n\u001b[1;32m-> 1395\u001b[1;33m                          verbose=verbose, header=header, equal_nan=equal_nan)\n\u001b[0m\u001b[0;32m   1396\u001b[0m \u001b[1;33m\u001b[0m\u001b[0m\n\u001b[0;32m   1397\u001b[0m \u001b[1;33m\u001b[0m\u001b[0m\n",
      "\u001b[1;32m/opt/anaconda3/lib/python3.5/site-packages/numpy/testing/utils.py\u001b[0m in \u001b[0;36massert_array_compare\u001b[1;34m(comparison, x, y, err_msg, verbose, header, precision, equal_nan, equal_inf)\u001b[0m\n\u001b[0;32m    776\u001b[0m                                 names=('x', 'y'), precision=precision)\n\u001b[0;32m    777\u001b[0m             \u001b[1;32mif\u001b[0m \u001b[1;32mnot\u001b[0m \u001b[0mcond\u001b[0m\u001b[1;33m:\u001b[0m\u001b[1;33m\u001b[0m\u001b[0m\n\u001b[1;32m--> 778\u001b[1;33m                 \u001b[1;32mraise\u001b[0m \u001b[0mAssertionError\u001b[0m\u001b[1;33m(\u001b[0m\u001b[0mmsg\u001b[0m\u001b[1;33m)\u001b[0m\u001b[1;33m\u001b[0m\u001b[0m\n\u001b[0m\u001b[0;32m    779\u001b[0m     \u001b[1;32mexcept\u001b[0m \u001b[0mValueError\u001b[0m\u001b[1;33m:\u001b[0m\u001b[1;33m\u001b[0m\u001b[0m\n\u001b[0;32m    780\u001b[0m         \u001b[1;32mimport\u001b[0m \u001b[0mtraceback\u001b[0m\u001b[1;33m\u001b[0m\u001b[0m\n",
      "\u001b[1;31mAssertionError\u001b[0m: \nNot equal to tolerance rtol=1e-07, atol=0\n\n(mismatch 25.0%)\n x: array([ 0.5     ,  1.5     ,  2.5     ,  3.500001])\n y: array([ 0.5,  1.5,  2.5,  3.5])"
     ]
    }
   ],
   "source": [
    "test_find_energies_sho(4)"
   ]
  },
  {
   "cell_type": "markdown",
   "metadata": {},
   "source": [
    "## Integrate end to end"
   ]
  },
  {
   "cell_type": "code",
   "execution_count": 152,
   "metadata": {},
   "outputs": [],
   "source": [
    "def harmonic(x, m=1, omega=1):\n",
    "    \"\"\"Potential for the harmonic oscillator\"\"\"\n",
    "    \n",
    "    return m*omega**2*x**2/2\n",
    "\n",
    "def schro_rhs(y, x, E, V, m=1.0, hbar=1.0):\n",
    "    \"\"\"RHS for the time independent schrodinger equation.\n",
    "    \n",
    "    Parameters:\n",
    "    -----------\n",
    "    y : iterable of floats\n",
    "        contains $\\psi(x)$ and $\\psi'(x)$\n",
    "    x : float\n",
    "        the position at which we're evaluating the equation\n",
    "    E : float\n",
    "        Energy of the quantum state\n",
    "    V : function\n",
    "        function for the potential\n",
    "    m : float, optional\n",
    "        mass; defaults to 1\n",
    "    hbar : float, optional\n",
    "           Planck's constant/2pi; defaults to 1\n",
    "    \n",
    "    Returns:\n",
    "    --------\n",
    "    float : the right hand side of the time independent schrodinger\n",
    "            equation for the time independent Schrodinger equation:\n",
    "            $$\\frac{d^2\\psi}{dx^2} = -\\frac{2m}{\\hbar^2}\n",
    "            \\left(E - V(x) \\right)\\psi.$$\n",
    "    \"\"\"\n",
    "    psi, psiprime = y\n",
    "    psidoubleprime = -(2*m/hbar**2)*(E-V(x))*psi\n",
    "    \n",
    "    return np.array([psiprime, psidoubleprime])\n",
    "\n",
    "def bc(E, V, endpoint=5):\n",
    "    \"\"\"Find the boundary value for a given energy.\n",
    "    \n",
    "    Parameters:\n",
    "    -----------\n",
    "    E : number\n",
    "        The energy to test\n",
    "    V : function\n",
    "        The potential function\n",
    "    endpoint : number, optional\n",
    "               the endpoint for the integration interval.\n",
    "    Returns:\n",
    "    --------\n",
    "    psi(endpoint) : number\n",
    "             The value of psi at x=endpoint. \n",
    "    \"\"\"\n",
    "    domain = np.linspace(-endpoint,endpoint,1000)\n",
    "    y0 = (0.0, 1.0)\n",
    "        \n",
    "    result = odeint(schro_rhs, y0, domain, args=(E,V,))\n",
    "    return result[-1, 0]\n",
    "\n",
    "def find_energies(V, n=3):\n",
    "    \"\"\"Find the energies allowed by the TISE for a particular potential.\n",
    "    \n",
    "    Parameters:\n",
    "    -----------\n",
    "    V : function\n",
    "        the potential\n",
    "    n : integer, optional\n",
    "        how many energies to find; defaults to 3\n",
    "        \n",
    "    Returns:\n",
    "    --------\n",
    "    energies : list\n",
    "               energy values\n",
    "    \"\"\"\n",
    "    \n",
    "    if not callable(V):\n",
    "        raise TypeError(\"{} is not callable\".format(V))\n",
    "    energies = []\n",
    "    bracket_found = False\n",
    "    starting_value = 0.01\n",
    "    e_step = 0.3\n",
    "    \n",
    "    # prime the pump\n",
    "    prev_energy = starting_value\n",
    "    prev_bc = bc(prev_energy, V)\n",
    "    \n",
    "    for idx in range(n):\n",
    "        # try energies until we find two values that bracket an eigenvalue\n",
    "        while not bracket_found:\n",
    "            current_energy = prev_energy + e_step\n",
    "            current_bc = bc(current_energy, V)\n",
    "            if np.sign(current_bc) != np.sign(prev_bc):\n",
    "                bracket_found = True\n",
    "            else:\n",
    "                prev_energy = current_energy\n",
    "                prev_bc = current_bc\n",
    "        # use bisect to get the actual value\n",
    "        energies.append(bisect(bc, prev_energy, current_energy, args=(V,)))\n",
    "        \n",
    "        # set up for the next energy\n",
    "        # populate prev_energy\n",
    "        prev_energy = current_energy\n",
    "        prev_bc = current_bc\n",
    "        # we no longer have a bracket\n",
    "        bracket_found = False\n",
    "    return energies"
   ]
  },
  {
   "cell_type": "code",
   "execution_count": 153,
   "metadata": {},
   "outputs": [],
   "source": [
    "test_find_energies_sho(3)"
   ]
  },
  {
   "cell_type": "code",
   "execution_count": 154,
   "metadata": {},
   "outputs": [
    {
     "ename": "AssertionError",
     "evalue": "\nNot equal to tolerance rtol=1e-07, atol=0\n\n(mismatch 25.0%)\n x: array([ 0.5     ,  1.5     ,  2.5     ,  3.500001])\n y: array([ 0.5,  1.5,  2.5,  3.5])",
     "output_type": "error",
     "traceback": [
      "\u001b[1;31m---------------------------------------------------------------------------\u001b[0m",
      "\u001b[1;31mAssertionError\u001b[0m                            Traceback (most recent call last)",
      "\u001b[1;32m<ipython-input-154-9c26c9b16de1>\u001b[0m in \u001b[0;36m<module>\u001b[1;34m()\u001b[0m\n\u001b[1;32m----> 1\u001b[1;33m \u001b[0mtest_find_energies_sho\u001b[0m\u001b[1;33m(\u001b[0m\u001b[1;36m4\u001b[0m\u001b[1;33m)\u001b[0m\u001b[1;33m\u001b[0m\u001b[0m\n\u001b[0m",
      "\u001b[1;32m<ipython-input-149-161c9e9d7d5b>\u001b[0m in \u001b[0;36mtest_find_energies_sho\u001b[1;34m(n)\u001b[0m\n\u001b[0;32m     10\u001b[0m \u001b[1;33m\u001b[0m\u001b[0m\n\u001b[0;32m     11\u001b[0m     \u001b[0mdesired_energies\u001b[0m \u001b[1;33m=\u001b[0m \u001b[0mnp\u001b[0m\u001b[1;33m.\u001b[0m\u001b[0marray\u001b[0m\u001b[1;33m(\u001b[0m\u001b[1;33m[\u001b[0m\u001b[0mi\u001b[0m\u001b[1;33m+\u001b[0m\u001b[1;36m0.5\u001b[0m \u001b[1;32mfor\u001b[0m \u001b[0mi\u001b[0m \u001b[1;32min\u001b[0m \u001b[0mrange\u001b[0m\u001b[1;33m(\u001b[0m\u001b[0mn\u001b[0m\u001b[1;33m)\u001b[0m\u001b[1;33m]\u001b[0m\u001b[1;33m)\u001b[0m\u001b[1;33m\u001b[0m\u001b[0m\n\u001b[1;32m---> 12\u001b[1;33m     \u001b[0massert_allclose\u001b[0m\u001b[1;33m(\u001b[0m\u001b[0mfind_energies\u001b[0m\u001b[1;33m(\u001b[0m\u001b[0msho_test\u001b[0m\u001b[1;33m,\u001b[0m \u001b[0mn\u001b[0m\u001b[1;33m)\u001b[0m\u001b[1;33m,\u001b[0m \u001b[0mdesired_energies\u001b[0m\u001b[1;33m)\u001b[0m\u001b[1;33m\u001b[0m\u001b[0m\n\u001b[0m",
      "\u001b[1;32m/opt/anaconda3/lib/python3.5/site-packages/numpy/testing/utils.py\u001b[0m in \u001b[0;36massert_allclose\u001b[1;34m(actual, desired, rtol, atol, equal_nan, err_msg, verbose)\u001b[0m\n\u001b[0;32m   1393\u001b[0m     \u001b[0mheader\u001b[0m \u001b[1;33m=\u001b[0m \u001b[1;34m'Not equal to tolerance rtol=%g, atol=%g'\u001b[0m \u001b[1;33m%\u001b[0m \u001b[1;33m(\u001b[0m\u001b[0mrtol\u001b[0m\u001b[1;33m,\u001b[0m \u001b[0matol\u001b[0m\u001b[1;33m)\u001b[0m\u001b[1;33m\u001b[0m\u001b[0m\n\u001b[0;32m   1394\u001b[0m     assert_array_compare(compare, actual, desired, err_msg=str(err_msg),\n\u001b[1;32m-> 1395\u001b[1;33m                          verbose=verbose, header=header, equal_nan=equal_nan)\n\u001b[0m\u001b[0;32m   1396\u001b[0m \u001b[1;33m\u001b[0m\u001b[0m\n\u001b[0;32m   1397\u001b[0m \u001b[1;33m\u001b[0m\u001b[0m\n",
      "\u001b[1;32m/opt/anaconda3/lib/python3.5/site-packages/numpy/testing/utils.py\u001b[0m in \u001b[0;36massert_array_compare\u001b[1;34m(comparison, x, y, err_msg, verbose, header, precision, equal_nan, equal_inf)\u001b[0m\n\u001b[0;32m    776\u001b[0m                                 names=('x', 'y'), precision=precision)\n\u001b[0;32m    777\u001b[0m             \u001b[1;32mif\u001b[0m \u001b[1;32mnot\u001b[0m \u001b[0mcond\u001b[0m\u001b[1;33m:\u001b[0m\u001b[1;33m\u001b[0m\u001b[0m\n\u001b[1;32m--> 778\u001b[1;33m                 \u001b[1;32mraise\u001b[0m \u001b[0mAssertionError\u001b[0m\u001b[1;33m(\u001b[0m\u001b[0mmsg\u001b[0m\u001b[1;33m)\u001b[0m\u001b[1;33m\u001b[0m\u001b[0m\n\u001b[0m\u001b[0;32m    779\u001b[0m     \u001b[1;32mexcept\u001b[0m \u001b[0mValueError\u001b[0m\u001b[1;33m:\u001b[0m\u001b[1;33m\u001b[0m\u001b[0m\n\u001b[0;32m    780\u001b[0m         \u001b[1;32mimport\u001b[0m \u001b[0mtraceback\u001b[0m\u001b[1;33m\u001b[0m\u001b[0m\n",
      "\u001b[1;31mAssertionError\u001b[0m: \nNot equal to tolerance rtol=1e-07, atol=0\n\n(mismatch 25.0%)\n x: array([ 0.5     ,  1.5     ,  2.5     ,  3.500001])\n y: array([ 0.5,  1.5,  2.5,  3.5])"
     ]
    }
   ],
   "source": [
    "test_find_energies_sho(4)"
   ]
  },
  {
   "cell_type": "markdown",
   "metadata": {},
   "source": [
    "## Refactor to improve accuracy"
   ]
  },
  {
   "cell_type": "code",
   "execution_count": 155,
   "metadata": {},
   "outputs": [
    {
     "ename": "AssertionError",
     "evalue": "\nNot equal to tolerance rtol=1e-07, atol=0\n\n(mismatch 70.0%)\n x: array([ 0.5     ,  1.5     ,  2.5     ,  3.500001,  4.500013,  5.500099,\n        6.500602,  7.502928,  8.511471,  9.536573])\n y: array([ 0.5,  1.5,  2.5,  3.5,  4.5,  5.5,  6.5,  7.5,  8.5,  9.5])",
     "output_type": "error",
     "traceback": [
      "\u001b[1;31m---------------------------------------------------------------------------\u001b[0m",
      "\u001b[1;31mAssertionError\u001b[0m                            Traceback (most recent call last)",
      "\u001b[1;32m<ipython-input-155-2eb0c50aff2c>\u001b[0m in \u001b[0;36m<module>\u001b[1;34m()\u001b[0m\n\u001b[1;32m----> 1\u001b[1;33m \u001b[0mtest_find_energies_sho\u001b[0m\u001b[1;33m(\u001b[0m\u001b[1;36m10\u001b[0m\u001b[1;33m)\u001b[0m\u001b[1;33m\u001b[0m\u001b[0m\n\u001b[0m",
      "\u001b[1;32m<ipython-input-149-161c9e9d7d5b>\u001b[0m in \u001b[0;36mtest_find_energies_sho\u001b[1;34m(n)\u001b[0m\n\u001b[0;32m     10\u001b[0m \u001b[1;33m\u001b[0m\u001b[0m\n\u001b[0;32m     11\u001b[0m     \u001b[0mdesired_energies\u001b[0m \u001b[1;33m=\u001b[0m \u001b[0mnp\u001b[0m\u001b[1;33m.\u001b[0m\u001b[0marray\u001b[0m\u001b[1;33m(\u001b[0m\u001b[1;33m[\u001b[0m\u001b[0mi\u001b[0m\u001b[1;33m+\u001b[0m\u001b[1;36m0.5\u001b[0m \u001b[1;32mfor\u001b[0m \u001b[0mi\u001b[0m \u001b[1;32min\u001b[0m \u001b[0mrange\u001b[0m\u001b[1;33m(\u001b[0m\u001b[0mn\u001b[0m\u001b[1;33m)\u001b[0m\u001b[1;33m]\u001b[0m\u001b[1;33m)\u001b[0m\u001b[1;33m\u001b[0m\u001b[0m\n\u001b[1;32m---> 12\u001b[1;33m     \u001b[0massert_allclose\u001b[0m\u001b[1;33m(\u001b[0m\u001b[0mfind_energies\u001b[0m\u001b[1;33m(\u001b[0m\u001b[0msho_test\u001b[0m\u001b[1;33m,\u001b[0m \u001b[0mn\u001b[0m\u001b[1;33m)\u001b[0m\u001b[1;33m,\u001b[0m \u001b[0mdesired_energies\u001b[0m\u001b[1;33m)\u001b[0m\u001b[1;33m\u001b[0m\u001b[0m\n\u001b[0m",
      "\u001b[1;32m/opt/anaconda3/lib/python3.5/site-packages/numpy/testing/utils.py\u001b[0m in \u001b[0;36massert_allclose\u001b[1;34m(actual, desired, rtol, atol, equal_nan, err_msg, verbose)\u001b[0m\n\u001b[0;32m   1393\u001b[0m     \u001b[0mheader\u001b[0m \u001b[1;33m=\u001b[0m \u001b[1;34m'Not equal to tolerance rtol=%g, atol=%g'\u001b[0m \u001b[1;33m%\u001b[0m \u001b[1;33m(\u001b[0m\u001b[0mrtol\u001b[0m\u001b[1;33m,\u001b[0m \u001b[0matol\u001b[0m\u001b[1;33m)\u001b[0m\u001b[1;33m\u001b[0m\u001b[0m\n\u001b[0;32m   1394\u001b[0m     assert_array_compare(compare, actual, desired, err_msg=str(err_msg),\n\u001b[1;32m-> 1395\u001b[1;33m                          verbose=verbose, header=header, equal_nan=equal_nan)\n\u001b[0m\u001b[0;32m   1396\u001b[0m \u001b[1;33m\u001b[0m\u001b[0m\n\u001b[0;32m   1397\u001b[0m \u001b[1;33m\u001b[0m\u001b[0m\n",
      "\u001b[1;32m/opt/anaconda3/lib/python3.5/site-packages/numpy/testing/utils.py\u001b[0m in \u001b[0;36massert_array_compare\u001b[1;34m(comparison, x, y, err_msg, verbose, header, precision, equal_nan, equal_inf)\u001b[0m\n\u001b[0;32m    776\u001b[0m                                 names=('x', 'y'), precision=precision)\n\u001b[0;32m    777\u001b[0m             \u001b[1;32mif\u001b[0m \u001b[1;32mnot\u001b[0m \u001b[0mcond\u001b[0m\u001b[1;33m:\u001b[0m\u001b[1;33m\u001b[0m\u001b[0m\n\u001b[1;32m--> 778\u001b[1;33m                 \u001b[1;32mraise\u001b[0m \u001b[0mAssertionError\u001b[0m\u001b[1;33m(\u001b[0m\u001b[0mmsg\u001b[0m\u001b[1;33m)\u001b[0m\u001b[1;33m\u001b[0m\u001b[0m\n\u001b[0m\u001b[0;32m    779\u001b[0m     \u001b[1;32mexcept\u001b[0m \u001b[0mValueError\u001b[0m\u001b[1;33m:\u001b[0m\u001b[1;33m\u001b[0m\u001b[0m\n\u001b[0;32m    780\u001b[0m         \u001b[1;32mimport\u001b[0m \u001b[0mtraceback\u001b[0m\u001b[1;33m\u001b[0m\u001b[0m\n",
      "\u001b[1;31mAssertionError\u001b[0m: \nNot equal to tolerance rtol=1e-07, atol=0\n\n(mismatch 70.0%)\n x: array([ 0.5     ,  1.5     ,  2.5     ,  3.500001,  4.500013,  5.500099,\n        6.500602,  7.502928,  8.511471,  9.536573])\n y: array([ 0.5,  1.5,  2.5,  3.5,  4.5,  5.5,  6.5,  7.5,  8.5,  9.5])"
     ]
    }
   ],
   "source": [
    "test_find_energies_sho(10)"
   ]
  },
  {
   "cell_type": "code",
   "execution_count": 162,
   "metadata": {},
   "outputs": [],
   "source": [
    "def find_energies(V, n=3):\n",
    "    \"\"\"Find the energies allowed by the TISE for a particular potential.\n",
    "    \n",
    "    Parameters:\n",
    "    -----------\n",
    "    V : function\n",
    "        the potential\n",
    "    n : integer, optional\n",
    "        how many energies to find; defaults to 3\n",
    "        \n",
    "    Returns:\n",
    "    --------\n",
    "    energies : list\n",
    "               energy values\n",
    "    \"\"\"\n",
    "    \n",
    "    if not callable(V):\n",
    "        raise TypeError(\"{} is not callable\".format(V))\n",
    "    energies = []\n",
    "    bracket_found = False\n",
    "    starting_value = 0.01\n",
    "    e_step = 0.3\n",
    "    \n",
    "    # prime the pump\n",
    "    prev_energy = starting_value\n",
    "    endpoint = turning_point(V, prev_energy) + 8\n",
    "    prev_bc = bc(prev_energy, V, endpoint)\n",
    "    \n",
    "    for idx in range(n):\n",
    "        # try energies until we find two values that bracket an eigenvalue\n",
    "        while not bracket_found:\n",
    "            current_energy = prev_energy + e_step\n",
    "            endpoint = turning_point(V, current_energy) + 8\n",
    "            current_bc = bc(current_energy, V, endpoint)\n",
    "            if np.sign(current_bc) != np.sign(prev_bc):\n",
    "                bracket_found = True\n",
    "            else:\n",
    "                prev_energy = current_energy\n",
    "                prev_bc = current_bc\n",
    "        # use bisect to get the actual value\n",
    "        energies.append(bisect(bc, prev_energy, current_energy, args=(V,endpoint,)))\n",
    "        \n",
    "        # set up for the next energy\n",
    "        # populate prev_energy\n",
    "        prev_energy = current_energy\n",
    "        prev_bc = current_bc\n",
    "        # we no longer have a bracket\n",
    "        bracket_found = False\n",
    "    return energies\n",
    "\n",
    "def turning_point(V, E):\n",
    "    \"\"\"find the classical turning point for the potential and energy\"\"\"\n",
    "    \n",
    "    # this works for SHO; won't for other potentials\n",
    "    A = V(1)\n",
    "    return np.sqrt(E/A)"
   ]
  },
  {
   "cell_type": "code",
   "execution_count": 159,
   "metadata": {},
   "outputs": [],
   "source": [
    "test_find_energies_sho(10)"
   ]
  },
  {
   "cell_type": "code",
   "execution_count": 161,
   "metadata": {},
   "outputs": [
    {
     "data": {
      "text/plain": [
       "[0.500000003768,\n",
       " 1.500000002271336,\n",
       " 2.5000000104073115,\n",
       " 3.500000006003174,\n",
       " 4.499999997242192,\n",
       " 5.5000000034289425,\n",
       " 6.500000002015217,\n",
       " 7.500000015985785,\n",
       " 8.500000012515882,\n",
       " 9.500000005149703]"
      ]
     },
     "execution_count": 161,
     "metadata": {},
     "output_type": "execute_result"
    }
   ],
   "source": [
    "find_energies(harmonic, 10)"
   ]
  },
  {
   "cell_type": "code",
   "execution_count": 163,
   "metadata": {},
   "outputs": [
    {
     "data": {
      "text/plain": [
       "[0.5000000045123304,\n",
       " 1.50000000277556,\n",
       " 2.4999999969919005,\n",
       " 3.5000000024103066,\n",
       " 4.499999994199386,\n",
       " 5.500000014679028,\n",
       " 6.500000005429097,\n",
       " 7.500000009179853,\n",
       " 8.500000006631089,\n",
       " 9.500000021197557]"
      ]
     },
     "execution_count": 163,
     "metadata": {},
     "output_type": "execute_result"
    }
   ],
   "source": [
    "find_energies(harmonic, 10)"
   ]
  },
  {
   "cell_type": "markdown",
   "metadata": {},
   "source": [
    "## Make a python package"
   ]
  },
  {
   "cell_type": "code",
   "execution_count": null,
   "metadata": {},
   "outputs": [],
   "source": []
  }
 ],
 "metadata": {
  "kernelspec": {
   "display_name": "Python 3",
   "language": "python",
   "name": "python3"
  },
  "language_info": {
   "codemirror_mode": {
    "name": "ipython",
    "version": 3
   },
   "file_extension": ".py",
   "mimetype": "text/x-python",
   "name": "python",
   "nbconvert_exporter": "python",
   "pygments_lexer": "ipython3",
   "version": "3.5.4"
  }
 },
 "nbformat": 4,
 "nbformat_minor": 2
}
