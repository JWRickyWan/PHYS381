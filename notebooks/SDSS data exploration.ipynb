{
 "cells": [
  {
   "cell_type": "code",
   "execution_count": 1,
   "metadata": {},
   "outputs": [],
   "source": [
    "import pandas as pd\n",
    "import numpy as np\n",
    "import matplotlib.pyplot as plt\n",
    "import matplotlib as mpl\n",
    "\n",
    "%matplotlib inline"
   ]
  },
  {
   "cell_type": "code",
   "execution_count": 2,
   "metadata": {},
   "outputs": [],
   "source": [
    "# load subset of sdss data\n",
    "trimmed = pd.read_pickle('../data/sdss-trimmed.pkl')"
   ]
  },
  {
   "cell_type": "code",
   "execution_count": 3,
   "metadata": {},
   "outputs": [
    {
     "data": {
      "text/html": [
       "<div>\n",
       "<style scoped>\n",
       "    .dataframe tbody tr th:only-of-type {\n",
       "        vertical-align: middle;\n",
       "    }\n",
       "\n",
       "    .dataframe tbody tr th {\n",
       "        vertical-align: top;\n",
       "    }\n",
       "\n",
       "    .dataframe thead th {\n",
       "        text-align: right;\n",
       "    }\n",
       "</style>\n",
       "<table border=\"1\" class=\"dataframe\">\n",
       "  <thead>\n",
       "    <tr style=\"text-align: right;\">\n",
       "      <th></th>\n",
       "      <th>TEFF_ADOP</th>\n",
       "      <th>TEFF_ADOP_N</th>\n",
       "      <th>TEFF_ADOP_UNC</th>\n",
       "      <th>LOGG_ADOP</th>\n",
       "      <th>LOGG_ADOP_N</th>\n",
       "      <th>LOGG_ADOP_UNC</th>\n",
       "      <th>FEH_ADOP</th>\n",
       "      <th>FEH_ADOP_N</th>\n",
       "      <th>FEH_ADOP_UNC</th>\n",
       "      <th>RV_ADOP</th>\n",
       "      <th>RV_ADOP_UNC</th>\n",
       "      <th>DIST_ADOP</th>\n",
       "      <th>L</th>\n",
       "      <th>B</th>\n",
       "      <th>TEFF_UNC_REL</th>\n",
       "    </tr>\n",
       "  </thead>\n",
       "  <tbody>\n",
       "    <tr>\n",
       "      <th>13</th>\n",
       "      <td>8093.177734</td>\n",
       "      <td>5</td>\n",
       "      <td>17.046478</td>\n",
       "      <td>3.894807</td>\n",
       "      <td>4</td>\n",
       "      <td>0.058839</td>\n",
       "      <td>-1.675958</td>\n",
       "      <td>1</td>\n",
       "      <td>0.586000</td>\n",
       "      <td>223.323318</td>\n",
       "      <td>7.818055</td>\n",
       "      <td>11.022938</td>\n",
       "      <td>237.402389</td>\n",
       "      <td>37.855757</td>\n",
       "      <td>0.002106</td>\n",
       "    </tr>\n",
       "    <tr>\n",
       "      <th>21</th>\n",
       "      <td>8877.455078</td>\n",
       "      <td>4</td>\n",
       "      <td>338.060822</td>\n",
       "      <td>4.427508</td>\n",
       "      <td>2</td>\n",
       "      <td>0.127508</td>\n",
       "      <td>-3.106323</td>\n",
       "      <td>1</td>\n",
       "      <td>0.150400</td>\n",
       "      <td>-4.133572</td>\n",
       "      <td>4.987796</td>\n",
       "      <td>5.466160</td>\n",
       "      <td>237.321934</td>\n",
       "      <td>38.323073</td>\n",
       "      <td>0.038081</td>\n",
       "    </tr>\n",
       "    <tr>\n",
       "      <th>27</th>\n",
       "      <td>6080.926270</td>\n",
       "      <td>7</td>\n",
       "      <td>51.154720</td>\n",
       "      <td>3.811555</td>\n",
       "      <td>6</td>\n",
       "      <td>0.068476</td>\n",
       "      <td>0.022960</td>\n",
       "      <td>3</td>\n",
       "      <td>0.001255</td>\n",
       "      <td>3.552019</td>\n",
       "      <td>1.736180</td>\n",
       "      <td>11.819676</td>\n",
       "      <td>237.176079</td>\n",
       "      <td>38.149940</td>\n",
       "      <td>0.008412</td>\n",
       "    </tr>\n",
       "    <tr>\n",
       "      <th>31</th>\n",
       "      <td>5787.621582</td>\n",
       "      <td>7</td>\n",
       "      <td>28.281967</td>\n",
       "      <td>3.762244</td>\n",
       "      <td>6</td>\n",
       "      <td>0.043783</td>\n",
       "      <td>-0.943472</td>\n",
       "      <td>6</td>\n",
       "      <td>0.022553</td>\n",
       "      <td>77.411217</td>\n",
       "      <td>2.466664</td>\n",
       "      <td>1.986041</td>\n",
       "      <td>236.719375</td>\n",
       "      <td>38.279004</td>\n",
       "      <td>0.004887</td>\n",
       "    </tr>\n",
       "    <tr>\n",
       "      <th>33</th>\n",
       "      <td>8628.625977</td>\n",
       "      <td>3</td>\n",
       "      <td>270.294250</td>\n",
       "      <td>4.281405</td>\n",
       "      <td>2</td>\n",
       "      <td>0.018595</td>\n",
       "      <td>-3.141042</td>\n",
       "      <td>1</td>\n",
       "      <td>0.217600</td>\n",
       "      <td>39.422123</td>\n",
       "      <td>16.191286</td>\n",
       "      <td>10.153520</td>\n",
       "      <td>236.946675</td>\n",
       "      <td>38.242511</td>\n",
       "      <td>0.031325</td>\n",
       "    </tr>\n",
       "  </tbody>\n",
       "</table>\n",
       "</div>"
      ],
      "text/plain": [
       "      TEFF_ADOP  TEFF_ADOP_N  TEFF_ADOP_UNC  LOGG_ADOP  LOGG_ADOP_N  \\\n",
       "13  8093.177734            5      17.046478   3.894807            4   \n",
       "21  8877.455078            4     338.060822   4.427508            2   \n",
       "27  6080.926270            7      51.154720   3.811555            6   \n",
       "31  5787.621582            7      28.281967   3.762244            6   \n",
       "33  8628.625977            3     270.294250   4.281405            2   \n",
       "\n",
       "    LOGG_ADOP_UNC  FEH_ADOP  FEH_ADOP_N  FEH_ADOP_UNC     RV_ADOP  \\\n",
       "13       0.058839 -1.675958           1      0.586000  223.323318   \n",
       "21       0.127508 -3.106323           1      0.150400   -4.133572   \n",
       "27       0.068476  0.022960           3      0.001255    3.552019   \n",
       "31       0.043783 -0.943472           6      0.022553   77.411217   \n",
       "33       0.018595 -3.141042           1      0.217600   39.422123   \n",
       "\n",
       "    RV_ADOP_UNC  DIST_ADOP           L          B  TEFF_UNC_REL  \n",
       "13     7.818055  11.022938  237.402389  37.855757      0.002106  \n",
       "21     4.987796   5.466160  237.321934  38.323073      0.038081  \n",
       "27     1.736180  11.819676  237.176079  38.149940      0.008412  \n",
       "31     2.466664   1.986041  236.719375  38.279004      0.004887  \n",
       "33    16.191286  10.153520  236.946675  38.242511      0.031325  "
      ]
     },
     "execution_count": 3,
     "metadata": {},
     "output_type": "execute_result"
    }
   ],
   "source": [
    "trimmed.head()"
   ]
  },
  {
   "cell_type": "markdown",
   "metadata": {},
   "source": [
    "## Task 1: histogram of relative uncertainty\n",
    "\n",
    "Given a percentile (*e.g.*, 0.9), produce a histogram of the relative uncertainty of the effective temperature within 1% of that percentile."
   ]
  },
  {
   "cell_type": "code",
   "execution_count": 55,
   "metadata": {},
   "outputs": [],
   "source": [
    "def make_hist(df, percentile, ax, nbins, binmax, col='TEFF_UNC_REL'):\n",
    "    \"\"\"Given a dataframe, plot a histogram for data within a distance percentile.\"\"\"\n",
    "    mindist = df['DIST_ADOP'].quantile(percentile) - 0.005\n",
    "    maxdist = df['DIST_ADOP'].quantile(percentile) + 0.005\n",
    "    selector = (df['DIST_ADOP'] < maxdist) & (df['DIST_ADOP'] > mindist)\n",
    "    \n",
    "    bins = np.linspace(0, binmax, nbins)\n",
    "    \n",
    "    smaller = df[selector]\n",
    "    smaller[col].hist(bins=bins, ax=ax)\n",
    "#    ax.set_axis_off()\n",
    "#    ax.set_xlim(0,0.05)\n",
    "    "
   ]
  },
  {
   "cell_type": "code",
   "execution_count": 58,
   "metadata": {},
   "outputs": [
    {
     "data": {
      "image/png": "[encoded data removed]",
      "text/plain": [
       "<matplotlib.figure.Figure at 0x7f52b0f46da0>"
      ]
     },
     "metadata": {},
     "output_type": "display_data"
    }
   ],
   "source": [
    "fig, axes = plt.subplots(4,4)\n",
    "nplots = axes.size\n",
    "for plot in zip(axes.flat, np.linspace(0.01, 0.98, nplots)):\n",
    "    ax = plot[0]\n",
    "    make_hist(trimmed, plot[1], ax, nbins=30, binmax=0.02)"
   ]
  },
  {
   "cell_type": "code",
   "execution_count": 42,
   "metadata": {},
   "outputs": [
    {
     "data": {
      "text/plain": [
       "[(<matplotlib.axes._subplots.AxesSubplot at 0x7f52bb7cce48>, 0.01),\n",
       " (<matplotlib.axes._subplots.AxesSubplot at 0x7f52b2f94780>,\n",
       "  0.13250000000000001),\n",
       " (<matplotlib.axes._subplots.AxesSubplot at 0x7f52b2e9e710>, 0.255),\n",
       " (<matplotlib.axes._subplots.AxesSubplot at 0x7f52b2eb3b38>, 0.3775),\n",
       " (<matplotlib.axes._subplots.AxesSubplot at 0x7f52b2ee0048>, 0.5),\n",
       " (<matplotlib.axes._subplots.AxesSubplot at 0x7f52b2dd4390>,\n",
       "  0.62250000000000005),\n",
       " (<matplotlib.axes._subplots.AxesSubplot at 0x7f52b31aed30>, 0.745),\n",
       " (<matplotlib.axes._subplots.AxesSubplot at 0x7f52b2f21da0>,\n",
       "  0.86749999999999994),\n",
       " (<matplotlib.axes._subplots.AxesSubplot at 0x7f52bb79f2b0>,\n",
       "  0.98999999999999999)]"
      ]
     },
     "execution_count": 42,
     "metadata": {},
     "output_type": "execute_result"
    }
   ],
   "source": [
    "list(zip(axes.flat, np.linspace(0.01, 0.99, nplots)))"
   ]
  },
  {
   "cell_type": "code",
   "execution_count": 24,
   "metadata": {},
   "outputs": [
    {
     "data": {
      "text/plain": [
       "matplotlib.figure.Figure"
      ]
     },
     "execution_count": 24,
     "metadata": {},
     "output_type": "execute_result"
    }
   ],
   "source": [
    "type(fig)"
   ]
  },
  {
   "cell_type": "code",
   "execution_count": 25,
   "metadata": {},
   "outputs": [
    {
     "data": {
      "text/plain": [
       "numpy.ndarray"
      ]
     },
     "execution_count": 25,
     "metadata": {},
     "output_type": "execute_result"
    }
   ],
   "source": [
    "type(axes)"
   ]
  },
  {
   "cell_type": "code",
   "execution_count": 26,
   "metadata": {},
   "outputs": [
    {
     "data": {
      "text/plain": [
       "(3, 3)"
      ]
     },
     "execution_count": 26,
     "metadata": {},
     "output_type": "execute_result"
    }
   ],
   "source": []
  },
  {
   "cell_type": "code",
   "execution_count": 29,
   "metadata": {},
   "outputs": [
    {
     "data": {
      "text/plain": [
       "matplotlib.axes._subplots.AxesSubplot"
      ]
     },
     "execution_count": 29,
     "metadata": {},
     "output_type": "execute_result"
    }
   ],
   "source": [
    "type(axes[0,0])"
   ]
  },
  {
   "cell_type": "code",
   "execution_count": null,
   "metadata": {},
   "outputs": [],
   "source": []
  }
 ],
 "metadata": {
  "kernelspec": {
   "display_name": "Python 3",
   "language": "python",
   "name": "python3"
  },
  "language_info": {
   "codemirror_mode": {
    "name": "ipython",
    "version": 3
   },
   "file_extension": ".py",
   "mimetype": "text/x-python",
   "name": "python",
   "nbconvert_exporter": "python",
   "pygments_lexer": "ipython3",
   "version": "3.5.4"
  }
 },
 "nbformat": 4,
 "nbformat_minor": 2
}
